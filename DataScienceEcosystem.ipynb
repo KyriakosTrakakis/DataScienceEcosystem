{
 "cells": [
  {
   "cell_type": "markdown",
   "id": "2bae4004",
   "metadata": {},
   "source": [
    "# Data Science Tools and Ecosystem"
   ]
  },
  {
   "cell_type": "markdown",
   "id": "db69175e",
   "metadata": {},
   "source": [
    "In this notebook, Data Science Tools and Ecosystem are summarized."
   ]
  },
  {
   "cell_type": "markdown",
   "id": "5b252819",
   "metadata": {},
   "source": [
    "**Objectives:**\n",
    "\n",
    "    -List popular Data Science Languages\n",
    "    -List popular Data Science Tools\n",
    "    -Create a Table\n",
    "    -Add and Multiply Integers\n",
    "    -Convert minutes to hours"
   ]
  },
  {
   "cell_type": "markdown",
   "id": "e3a3b47f",
   "metadata": {},
   "source": [
    "Some of the popular languages that Data Scientists use are:\n",
    "\n",
    "    1. Python\n",
    "    2. R\n",
    "    3. SQL"
   ]
  },
  {
   "cell_type": "markdown",
   "id": "fc1faa6e",
   "metadata": {},
   "source": [
    "Some of the commonly used libraries used by Data Scientists include:\n",
    "    \n",
    "    1. pandas\n",
    "    2. numpy\n",
    "    3. matplotlib"
   ]
  },
  {
   "cell_type": "markdown",
   "id": "774f51d5",
   "metadata": {},
   "source": [
    "|Data Science Tools|\n",
    "|------------------|\n",
    "|RStudio|\n",
    "|Visual Studio Code|\n",
    "|Jupyter Lab|"
   ]
  },
  {
   "cell_type": "markdown",
   "id": "e12ec809",
   "metadata": {},
   "source": [
    "### Below are a few examples of evaluating arithmetic expressions in Python."
   ]
  },
  {
   "cell_type": "code",
   "execution_count": 1,
   "id": "fb08b3fc",
   "metadata": {},
   "outputs": [
    {
     "data": {
      "text/plain": [
       "17"
      ]
     },
     "execution_count": 1,
     "metadata": {},
     "output_type": "execute_result"
    }
   ],
   "source": [
    "#This a simple arithmetic expression to mutiply then add integers\n",
    "(3*4)+5"
   ]
  },
  {
   "cell_type": "code",
   "execution_count": 17,
   "id": "db25c826",
   "metadata": {},
   "outputs": [
    {
     "name": "stdout",
     "output_type": "stream",
     "text": [
      "200 Minutes is 3  Hours and  20  Minutes\n"
     ]
    }
   ],
   "source": [
    "#This will convert 200 minutes to hours by diving by 60\n",
    "Mod=200%60\n",
    "Hours=int((200-Mod)/60)\n",
    "print(\"200 Minutes is\",Hours,\" Hours and \", Mod,  \" Minutes\")"
   ]
  },
  {
   "cell_type": "markdown",
   "id": "3e9835a8",
   "metadata": {},
   "source": [
    "## Author\n",
    "Kyriakos Trakakis"
   ]
  },
  {
   "cell_type": "code",
   "execution_count": null,
   "id": "48acde5c",
   "metadata": {},
   "outputs": [],
   "source": []
  }
 ],
 "metadata": {
  "kernelspec": {
   "display_name": "Python 3",
   "language": "python",
   "name": "python3"
  },
  "language_info": {
   "codemirror_mode": {
    "name": "ipython",
    "version": 3
   },
   "file_extension": ".py",
   "mimetype": "text/x-python",
   "name": "python",
   "nbconvert_exporter": "python",
   "pygments_lexer": "ipython3",
   "version": "3.8.8"
  }
 },
 "nbformat": 4,
 "nbformat_minor": 5
}
